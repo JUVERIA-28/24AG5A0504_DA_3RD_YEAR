data = {
    "product_001": {
        "reviews": {
            "text": ["Excellent!", "Love it", "High quality", "Very durable", "Best purchase", "Fast shipping", "Highly recommend"],
            "rating": 4.6,
            "clicks": 310,
            "purchases": 50,
            "quantity_available": 120,
            "views": 980,
            "number_of_reviews": 7
        }
    },
    "product_002": {
        "reviews": {
            "text": ["Bad quality", "Poor design", "Not worth it", "Too expensive", "Looks cheap"],
            "rating": 2.1,
            "clicks": 95,
            "purchases": 8,
            "quantity_available": 60,
            "views": 300,
            "number_of_reviews": 5
        }
    },
    "product_003": {
        "reviews": {
            "text": ["Awesome!", "Perfect for gift", "Exactly as described", "Loved the packaging", "Premium feel", "Great support"],
            "rating": 4.7,
            "clicks": 280,
            "purchases": 55,
            "quantity_available": 90,
            "views": 1100,
            "number_of_reviews": 6
        }
    },
    "product_004": {
        "reviews": {
            "text": ["Not as expected", "Does the job", "Okay", "Meh", "Could be better", "Arrived late", "Average performance", "Build quality is poor"],
            "rating": 3.0,
            "clicks": 150,
            "purchases": 20,
            "quantity_available": 150,
            "views": 600,
            "number_of_reviews": 8
        }
    },
    "product_005": {
        "reviews": {
            "text": ["Fantastic!", "Must buy", "Very comfortable", "Soft material", "Will order again", "Nice colors"],
            "rating": 4.8,
            "clicks": 360,
            "purchases": 65,
            "quantity_available": 100,
            "views": 1250,
            "number_of_reviews": 6
        }
    },
    "product_006": {
        "reviews": {
            "text": ["Flimsy", "Doesn't last", "Wears out quickly", "Not recommended", "Cheap material", "Too small", "Bad value"],
            "rating": 2.3,
            "clicks": 110,
            "purchases": 12,
            "quantity_available": 130,
            "views": 420,
            "number_of_reviews": 7
        }
    },
    "product_007": {
        "reviews": {
            "text": ["Great for kids", "Easy to use", "Nice design", "Vibrant colors", "Good size", "Educational", "Safe material", "Well packaged", "Fun to play with"],
            "rating": 4.5,
            "clicks": 400,
            "purchases": 80,
            "quantity_available": 70,
            "views": 1500,
            "number_of_reviews": 9
        }
    },
    "product_008": {
        "reviews": {
            "text": ["Heavy", "Sturdy", "Solid build", "Perfect height", "Very stable"],
            "rating": 4.2,
            "clicks": 260,
            "purchases": 45,
            "quantity_available": 95,
            "views": 840,
            "number_of_reviews": 5
        }
    },
    "product_009": {
        "reviews": {
            "text": ["Looks good", "Charges fast", "Works with all devices", "Sleek finish", "Compact size", "Value for money", "Long-lasting"],
            "rating": 4.4,
            "clicks": 290,
            "purchases": 52,
            "quantity_available": 88,
            "views": 960,
            "number_of_reviews": 7
        }
    },
    "product_010": {
        "reviews": {
            "text": ["Affordable", "Good sound", "Lightweight", "Comfortable fit", "Battery lasts long", "Mic quality is good", "Looks stylish", "Pairs easily"],
            "rating": 4.3,
            "clicks": 310,
            "purchases": 60,
            "quantity_available": 110,
            "views": 1030,
            "number_of_reviews": 8
        }
    }
}

records = []

for product_id, details in data.items():
    reviews = details['reviews']
    records.append({
        "product_id": product_id,
        "No. of reviews": reviews["number_of_reviews"],
        "clicks": reviews["clicks"],
        "purchases": reviews["purchases"],
        "quantity_available": reviews["quantity_available"],
        "views": reviews["views"]
    })

df = pd.DataFrame(records)

print(df)
